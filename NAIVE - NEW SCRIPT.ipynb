{
 "cells": [
  {
   "cell_type": "code",
   "execution_count": 1,
   "id": "2a32d3e7",
   "metadata": {},
   "outputs": [],
   "source": [
    "import pandas as pd\n",
    "import numpy as np\n",
    "from Bio import Entrez\n",
    "from Bio import Medline\n",
    "from Bio import SeqIO\n",
    "import random\n",
    "import requests\n",
    "import re\n",
    "from tqdm import tqdm\n",
    "import nltk\n",
    "import time\n",
    "from itertools import cycle, islice\n",
    "from xml.etree import ElementTree\n",
    "import xmltodict"
   ]
  },
  {
   "cell_type": "code",
   "execution_count": 2,
   "id": "de4c1b26",
   "metadata": {},
   "outputs": [],
   "source": [
    "def parse_document(document_ID):\n",
    "    query = str(document_ID)\n",
    "    def search(TERM):\n",
    "        Entrez.email = 'random@example.com'\n",
    "        handle = Entrez.esearch(db='pubmed', sort='relevance', retmax=1, retmode='text', term=TERM)\n",
    "        result = Entrez.read(handle)\n",
    "        ids = result['IdList']\n",
    "        handle = Entrez.efetch(db='pubmed', sort='relevance', retmode='text', rettype='medline', id=ids)\n",
    "        records = Medline.parse(handle)\n",
    "        return records\n",
    "\n",
    "\n",
    "    for record in search(query):\n",
    "        title = record.get('TI','')\n",
    "        abstract = record.get('AB','')\n",
    "        ID = record.get('PMID','')\n",
    "        mesh = record.get('MH','')\n",
    "        other_terms = record.get('OT','')\n",
    "\n",
    "    document = title + ' ' + abstract\n",
    "    with open('document.txt','w') as f:\n",
    "        f.write(document)\n",
    "    return ID, title, abstract, document"
   ]
  },
  {
   "cell_type": "code",
   "execution_count": 3,
   "id": "bff44a7e",
   "metadata": {},
   "outputs": [],
   "source": [
    "def pubtator(document_ID):\n",
    "    FORMAT = 'biocxml'\n",
    "    TYPE = \"pmids\"\n",
    "    BIOCONCEPTS = 'gene,disease'\n",
    "    url = f\"https://www.ncbi.nlm.nih.gov/research/pubtator-api/publications/export/{FORMAT}?{TYPE}={document_ID}&concepts={BIOCONCEPTS}\"\n",
    "    response = requests.get(url)\n",
    "    time.sleep(1.5)\n",
    "    doc  = ElementTree.fromstring(response.content)\n",
    "    tree = ElementTree.ElementTree(doc)\n",
    "    tree.write('content.xml',encoding = 'utf-8')\n",
    "    root = tree.getroot()\n",
    "    doc = root[3]\n",
    "    passage = doc[1:]\n",
    "    TEXT = []\n",
    "    ELEMENT = []\n",
    "    IDENTIFIER = []\n",
    "    TYPE = []\n",
    "    for i in passage:\n",
    "        for text in i.iterfind('text'):\n",
    "            text = text.text\n",
    "            TEXT.append(text)\n",
    "        for annotation in i.iterfind('annotation'):\n",
    "            for text in annotation.iterfind('text'):\n",
    "                element = text.text\n",
    "                ELEMENT.append(element)\n",
    "            infos = annotation.findall('infon')\n",
    "            try: \n",
    "                identifier = infos[0].text\n",
    "            except:\n",
    "                identifier = ''\n",
    "            IDENTIFIER.append(identifier.replace('MESH:',''))\n",
    "            try:\n",
    "                typex = infos[1].text\n",
    "            except:\n",
    "                typex = infos[0].text\n",
    "            TYPE.append(typex)\n",
    "    df = pd.DataFrame(data=zip(ELEMENT,IDENTIFIER,TYPE), columns=['element','identifier','type'])\n",
    "    df.identifier = df.identifier.replace('Disease',np.nan)\n",
    "    df = df.drop_duplicates('identifier')\n",
    "    disease_df = df[df.type == 'Disease']\n",
    "    gene_df = df[df.type == 'Gene']\n",
    "    return gene_df, disease_df"
   ]
  },
  {
   "cell_type": "code",
   "execution_count": 4,
   "id": "94daae3a",
   "metadata": {},
   "outputs": [],
   "source": [
    "def pubtator_offline(document_ID):\n",
    "    with open('../DATI ABSTRACT/filtered_data/anns.txt','r') as f:\n",
    "        data = f.read().split('\\n')\n",
    "        data = [i for i in data if i]\n",
    "        data = [i for i in data if document_ID in i]\n",
    "        ELEMENT = []\n",
    "        IDENTIFIER = []\n",
    "        TYPE = []\n",
    "        for i in range(len(data)):\n",
    "            x = data[i].split('\\t')\n",
    "            ELEMENT.append(x[3])\n",
    "            IDENTIFIER.append(x[5])\n",
    "            TYPE.append(x[4])\n",
    "    df = pd.DataFrame(data=zip(ELEMENT,IDENTIFIER,TYPE), columns=['element','identifier','type'])\n",
    "    df.identifier = df.identifier.replace('Disease',np.nan)\n",
    "    df = df.drop_duplicates('identifier')\n",
    "    disease_df = df[df.type == 'Disease']\n",
    "    gene_df = df[df.type == 'Gene']\n",
    "    return gene_df, disease_df"
   ]
  },
  {
   "cell_type": "code",
   "execution_count": 5,
   "id": "688708c9",
   "metadata": {},
   "outputs": [],
   "source": [
    "def process_text(document, gene_df, disease_df):\n",
    "    document = re.sub(r'[()]', '', document)\n",
    "    document = re.sub(r'[\\[\\]]', '', document)\n",
    "    document = document.replace('-->','')\n",
    "    document = document.replace('<--','')\n",
    "    document = document.replace('->','')\n",
    "    document = document.replace('<-','')\n",
    "\n",
    "    sentence = nltk.sent_tokenize(document)\n",
    "    genes_discovered = gene_df.element.tolist()\n",
    "    diseases_discovered = disease_df.element.tolist()\n",
    "\n",
    "    genes_id = gene_df.identifier.tolist()\n",
    "    diseases_id = disease_df.identifier.tolist()\n",
    "\n",
    "\n",
    "    phrases = []\n",
    "    for i in sentence:\n",
    "        for j in genes_discovered:\n",
    "            for k in diseases_discovered:\n",
    "                if (str(j) in i and str(k) in i) and ('association' in i or 'is associated' in i or 'is related' in i):\n",
    "                    phrases.append(i)\n",
    "    phrases = list(set(phrases))\n",
    "  \n",
    "    DATA = pd.DataFrame(columns = ['geneId','diseaseId'])\n",
    "    for i in phrases:\n",
    "        genes = [j for j in genes_discovered if j in i]\n",
    "        diseases = [j for j in diseases_discovered if j in i]\n",
    "        gene_id = [gene_df['identifier'][gene_df['element'] == i].values[0] for i in genes]\n",
    "        disease_id = [disease_df['identifier'][disease_df['element'] == i].values[0] for i in diseases]\n",
    "        max_value = max(len(gene_id),len(disease_id))\n",
    "        DATA = DATA.append({\n",
    "            'geneId' :  list(islice(cycle(gene_id), max_value)),\n",
    "            'diseaseId'  : list(islice(cycle(disease_id), max_value)),\n",
    "        },ignore_index = True)\n",
    "    DATA = DATA.explode(['geneId','diseaseId'])\n",
    "    DATA = DATA.drop_duplicates()\n",
    "    return DATA"
   ]
  },
  {
   "cell_type": "code",
   "execution_count": null,
   "id": "a21a470d",
   "metadata": {},
   "outputs": [],
   "source": []
  },
  {
   "cell_type": "code",
   "execution_count": null,
   "id": "fdb74cb8",
   "metadata": {},
   "outputs": [],
   "source": []
  },
  {
   "cell_type": "code",
   "execution_count": null,
   "id": "d81c45cb",
   "metadata": {},
   "outputs": [],
   "source": []
  },
  {
   "cell_type": "code",
   "execution_count": null,
   "id": "0685a451",
   "metadata": {},
   "outputs": [],
   "source": []
  },
  {
   "cell_type": "code",
   "execution_count": null,
   "id": "a632bfaa",
   "metadata": {},
   "outputs": [],
   "source": []
  },
  {
   "cell_type": "code",
   "execution_count": null,
   "id": "2e88df60",
   "metadata": {},
   "outputs": [],
   "source": []
  },
  {
   "cell_type": "code",
   "execution_count": null,
   "id": "0e886c19",
   "metadata": {},
   "outputs": [],
   "source": []
  },
  {
   "cell_type": "code",
   "execution_count": null,
   "id": "d1a015e4",
   "metadata": {},
   "outputs": [],
   "source": []
  },
  {
   "cell_type": "code",
   "execution_count": null,
   "id": "c90de36c",
   "metadata": {},
   "outputs": [],
   "source": []
  },
  {
   "cell_type": "code",
   "execution_count": 6,
   "id": "61de97e0",
   "metadata": {},
   "outputs": [],
   "source": [
    "x = '11578815'\n",
    "RESULT = pd.DataFrame(columns = ['geneId','diseaseId'])\n",
    "ID, title, abstract, document = parse_document(x)\n",
    "gene_df, disease_df = pubtator(ID)\n",
    "result = process_text(document, gene_df, disease_df)\n",
    "RESULT = RESULT.append(result, ignore_index = True)"
   ]
  },
  {
   "cell_type": "code",
   "execution_count": 7,
   "id": "72420694",
   "metadata": {},
   "outputs": [
    {
     "data": {
      "text/html": [
       "<div>\n",
       "<style scoped>\n",
       "    .dataframe tbody tr th:only-of-type {\n",
       "        vertical-align: middle;\n",
       "    }\n",
       "\n",
       "    .dataframe tbody tr th {\n",
       "        vertical-align: top;\n",
       "    }\n",
       "\n",
       "    .dataframe thead th {\n",
       "        text-align: right;\n",
       "    }\n",
       "</style>\n",
       "<table border=\"1\" class=\"dataframe\">\n",
       "  <thead>\n",
       "    <tr style=\"text-align: right;\">\n",
       "      <th></th>\n",
       "      <th>element</th>\n",
       "      <th>identifier</th>\n",
       "      <th>type</th>\n",
       "    </tr>\n",
       "  </thead>\n",
       "  <tbody>\n",
       "    <tr>\n",
       "      <th>0</th>\n",
       "      <td>Tau</td>\n",
       "      <td>4137</td>\n",
       "      <td>Gene</td>\n",
       "    </tr>\n",
       "    <tr>\n",
       "      <th>2</th>\n",
       "      <td>microtubule associated protein</td>\n",
       "      <td>51115</td>\n",
       "      <td>Gene</td>\n",
       "    </tr>\n",
       "  </tbody>\n",
       "</table>\n",
       "</div>"
      ],
      "text/plain": [
       "                          element identifier  type\n",
       "0                             Tau       4137  Gene\n",
       "2  microtubule associated protein      51115  Gene"
      ]
     },
     "execution_count": 7,
     "metadata": {},
     "output_type": "execute_result"
    }
   ],
   "source": [
    "gene_df"
   ]
  },
  {
   "cell_type": "code",
   "execution_count": 8,
   "id": "f3a87ab1",
   "metadata": {},
   "outputs": [
    {
     "name": "stdout",
     "output_type": "stream",
     "text": [
      "\\begin{tabular}{lll}\n",
      "\\toprule\n",
      "                       element & identifier & type \\\\\n",
      "\\midrule\n",
      "                           Tau &       4137 & Gene \\\\\n",
      "microtubule associated protein &      51115 & Gene \\\\\n",
      "\\bottomrule\n",
      "\\end{tabular}\n",
      "\n"
     ]
    }
   ],
   "source": [
    "print(gene_df.to_latex(index=False))"
   ]
  },
  {
   "cell_type": "code",
   "execution_count": 9,
   "id": "134730f1",
   "metadata": {},
   "outputs": [
    {
     "data": {
      "text/html": [
       "<div>\n",
       "<style scoped>\n",
       "    .dataframe tbody tr th:only-of-type {\n",
       "        vertical-align: middle;\n",
       "    }\n",
       "\n",
       "    .dataframe tbody tr th {\n",
       "        vertical-align: top;\n",
       "    }\n",
       "\n",
       "    .dataframe thead th {\n",
       "        text-align: right;\n",
       "    }\n",
       "</style>\n",
       "<table border=\"1\" class=\"dataframe\">\n",
       "  <thead>\n",
       "    <tr style=\"text-align: right;\">\n",
       "      <th></th>\n",
       "      <th>element</th>\n",
       "      <th>identifier</th>\n",
       "      <th>type</th>\n",
       "    </tr>\n",
       "  </thead>\n",
       "  <tbody>\n",
       "    <tr>\n",
       "      <th>1</th>\n",
       "      <td>supranuclear palsy</td>\n",
       "      <td>D013494</td>\n",
       "      <td>Disease</td>\n",
       "    </tr>\n",
       "    <tr>\n",
       "      <th>6</th>\n",
       "      <td>tauopathies</td>\n",
       "      <td>D024801</td>\n",
       "      <td>Disease</td>\n",
       "    </tr>\n",
       "    <tr>\n",
       "      <th>8</th>\n",
       "      <td>dementia</td>\n",
       "      <td>D003704</td>\n",
       "      <td>Disease</td>\n",
       "    </tr>\n",
       "    <tr>\n",
       "      <th>9</th>\n",
       "      <td>parkinsonism</td>\n",
       "      <td>D010302</td>\n",
       "      <td>Disease</td>\n",
       "    </tr>\n",
       "  </tbody>\n",
       "</table>\n",
       "</div>"
      ],
      "text/plain": [
       "              element identifier     type\n",
       "1  supranuclear palsy    D013494  Disease\n",
       "6         tauopathies    D024801  Disease\n",
       "8            dementia    D003704  Disease\n",
       "9        parkinsonism    D010302  Disease"
      ]
     },
     "execution_count": 9,
     "metadata": {},
     "output_type": "execute_result"
    }
   ],
   "source": [
    "disease_df"
   ]
  },
  {
   "cell_type": "code",
   "execution_count": 10,
   "id": "f5fcc2be",
   "metadata": {},
   "outputs": [
    {
     "name": "stdout",
     "output_type": "stream",
     "text": [
      "\\begin{tabular}{lll}\n",
      "\\toprule\n",
      "           element & identifier &    type \\\\\n",
      "\\midrule\n",
      "supranuclear palsy &    D013494 & Disease \\\\\n",
      "       tauopathies &    D024801 & Disease \\\\\n",
      "          dementia &    D003704 & Disease \\\\\n",
      "      parkinsonism &    D010302 & Disease \\\\\n",
      "\\bottomrule\n",
      "\\end{tabular}\n",
      "\n"
     ]
    }
   ],
   "source": [
    "print(disease_df.to_latex(index=False))"
   ]
  },
  {
   "cell_type": "code",
   "execution_count": 11,
   "id": "96505e17",
   "metadata": {},
   "outputs": [
    {
     "data": {
      "text/html": [
       "<div>\n",
       "<style scoped>\n",
       "    .dataframe tbody tr th:only-of-type {\n",
       "        vertical-align: middle;\n",
       "    }\n",
       "\n",
       "    .dataframe tbody tr th {\n",
       "        vertical-align: top;\n",
       "    }\n",
       "\n",
       "    .dataframe thead th {\n",
       "        text-align: right;\n",
       "    }\n",
       "</style>\n",
       "<table border=\"1\" class=\"dataframe\">\n",
       "  <thead>\n",
       "    <tr style=\"text-align: right;\">\n",
       "      <th></th>\n",
       "      <th>geneId</th>\n",
       "      <th>diseaseId</th>\n",
       "    </tr>\n",
       "  </thead>\n",
       "  <tbody>\n",
       "    <tr>\n",
       "      <th>0</th>\n",
       "      <td>4137</td>\n",
       "      <td>D013494</td>\n",
       "    </tr>\n",
       "  </tbody>\n",
       "</table>\n",
       "</div>"
      ],
      "text/plain": [
       "  geneId diseaseId\n",
       "0   4137   D013494"
      ]
     },
     "execution_count": 11,
     "metadata": {},
     "output_type": "execute_result"
    }
   ],
   "source": [
    "RESULT"
   ]
  },
  {
   "cell_type": "code",
   "execution_count": 12,
   "id": "237e0017",
   "metadata": {},
   "outputs": [
    {
     "name": "stdout",
     "output_type": "stream",
     "text": [
      "\\begin{tabular}{ll}\n",
      "\\toprule\n",
      "geneId & diseaseId \\\\\n",
      "\\midrule\n",
      "  4137 &   D013494 \\\\\n",
      "\\bottomrule\n",
      "\\end{tabular}\n",
      "\n"
     ]
    }
   ],
   "source": [
    "print(RESULT.to_latex(index=False))"
   ]
  },
  {
   "cell_type": "code",
   "execution_count": null,
   "id": "8b72d093",
   "metadata": {},
   "outputs": [],
   "source": []
  },
  {
   "cell_type": "code",
   "execution_count": null,
   "id": "3771781c",
   "metadata": {},
   "outputs": [],
   "source": []
  },
  {
   "cell_type": "code",
   "execution_count": null,
   "id": "11e30e3f",
   "metadata": {},
   "outputs": [],
   "source": []
  },
  {
   "cell_type": "code",
   "execution_count": null,
   "id": "54a685c0",
   "metadata": {},
   "outputs": [],
   "source": []
  },
  {
   "cell_type": "code",
   "execution_count": null,
   "id": "e5903cfd",
   "metadata": {},
   "outputs": [],
   "source": []
  },
  {
   "cell_type": "code",
   "execution_count": null,
   "id": "ec771914",
   "metadata": {},
   "outputs": [],
   "source": []
  },
  {
   "cell_type": "code",
   "execution_count": null,
   "id": "a73b95a8",
   "metadata": {},
   "outputs": [],
   "source": []
  },
  {
   "cell_type": "code",
   "execution_count": null,
   "id": "0d5d9299",
   "metadata": {},
   "outputs": [],
   "source": []
  },
  {
   "cell_type": "code",
   "execution_count": null,
   "id": "d9aa2745",
   "metadata": {},
   "outputs": [],
   "source": []
  },
  {
   "cell_type": "code",
   "execution_count": 13,
   "id": "607bb415",
   "metadata": {},
   "outputs": [
    {
     "data": {
      "text/plain": [
       "500"
      ]
     },
     "execution_count": 13,
     "metadata": {},
     "output_type": "execute_result"
    }
   ],
   "source": [
    "input_document = 'documents_in_filtered_data'\n",
    "documents_input = pd.read_csv(f'../{input_document}.csv')\n",
    "LIST_ID = list(set([str(i) for i in documents_input.pmid.tolist()]))\n",
    "len(LIST_ID)"
   ]
  },
  {
   "cell_type": "code",
   "execution_count": 14,
   "id": "e55b2253",
   "metadata": {},
   "outputs": [
    {
     "name": "stderr",
     "output_type": "stream",
     "text": [
      "100%|████████████████████████████████████████████████████████████████████████████████| 500/500 [13:55<00:00,  1.67s/it]\n"
     ]
    }
   ],
   "source": [
    "RESULT = pd.DataFrame(columns = ['geneId','diseaseId','diseaseUMLS'])\n",
    "for x in tqdm(LIST_ID):\n",
    "    ID, title, abstract, document = parse_document(x)\n",
    "    # gene_df, disease_df = pubtator(ID)\n",
    "    gene_df, disease_df = pubtator_offline(ID)\n",
    "    result = process_text(document, gene_df, disease_df)\n",
    "    RESULT = RESULT.append(result, ignore_index = True)\n",
    "RESULT.geneId = RESULT.geneId.astype(np.int64)"
   ]
  },
  {
   "cell_type": "code",
   "execution_count": 15,
   "id": "27bd7f1b",
   "metadata": {},
   "outputs": [],
   "source": [
    "RESULT.to_csv(f'naive_results_no_conversion_{input_document}.csv',index=False)"
   ]
  },
  {
   "cell_type": "code",
   "execution_count": 16,
   "id": "2c09e48c",
   "metadata": {},
   "outputs": [
    {
     "name": "stderr",
     "output_type": "stream",
     "text": [
      "100%|████████████████████████████████████████████████████████████████████████████████| 227/227 [37:35<00:00,  9.94s/it]\n"
     ]
    }
   ],
   "source": [
    "auth_params = {\"email\": \"salvatoredanilopalumbo@gmail.com\",\"password\" : \"PVFXYXpkV1p1VkdkeUVETTFrak4wVm1ibGQyY3BSR1JCNVVTTTkwVE1sa1RCUkVacE4zWmw1V1owWlRPMUFUTXlRWFp1VjJaemxHWg==\"}\n",
    "api_host = \"https://www.disgenet.org/api\"\n",
    "VOCABULARY = 'mesh'\n",
    "DISEASE_UMLS = []\n",
    "\n",
    "s = requests.Session()\n",
    "r = s.post(api_host+'/auth/', data=auth_params)\n",
    "json_response = r.json()\n",
    "api_key = json_response.get(\"token\")\n",
    "\n",
    "\n",
    "for i in tqdm(RESULT.diseaseId):\n",
    "    if api_key:\n",
    "        s.headers.update({\"Authorization\": \"Bearer %s\" % api_key})\n",
    "        try:\n",
    "            gda_response = s.get(f\"{api_host}/gda/disease/{VOCABULARY}/{i}\").json()\n",
    "            DISEASE_UMLS.append(list(set([i['diseaseid'] for i in gda_response])))\n",
    "        except:\n",
    "            DISEASE_UMLS.append(np.nan)\n",
    "if s:\n",
    "    s.close()\n",
    "        \n",
    "RESULT['diseaseUMLS'] = DISEASE_UMLS\n",
    "RESULT.dropna(inplace=True)"
   ]
  },
  {
   "cell_type": "code",
   "execution_count": 17,
   "id": "620411cc",
   "metadata": {},
   "outputs": [
    {
     "data": {
      "text/html": [
       "<div>\n",
       "<style scoped>\n",
       "    .dataframe tbody tr th:only-of-type {\n",
       "        vertical-align: middle;\n",
       "    }\n",
       "\n",
       "    .dataframe tbody tr th {\n",
       "        vertical-align: top;\n",
       "    }\n",
       "\n",
       "    .dataframe thead th {\n",
       "        text-align: right;\n",
       "    }\n",
       "</style>\n",
       "<table border=\"1\" class=\"dataframe\">\n",
       "  <thead>\n",
       "    <tr style=\"text-align: right;\">\n",
       "      <th></th>\n",
       "      <th>geneId</th>\n",
       "      <th>diseaseId</th>\n",
       "      <th>diseaseUMLS</th>\n",
       "    </tr>\n",
       "  </thead>\n",
       "  <tbody>\n",
       "    <tr>\n",
       "      <th>0</th>\n",
       "      <td>4313</td>\n",
       "      <td>D054160</td>\n",
       "      <td>[C0232257]</td>\n",
       "    </tr>\n",
       "    <tr>\n",
       "      <th>1</th>\n",
       "      <td>2100</td>\n",
       "      <td>D014647</td>\n",
       "      <td>[C0042344]</td>\n",
       "    </tr>\n",
       "    <tr>\n",
       "      <th>2</th>\n",
       "      <td>2099</td>\n",
       "      <td>D014647</td>\n",
       "      <td>[C0042344]</td>\n",
       "    </tr>\n",
       "    <tr>\n",
       "      <th>3</th>\n",
       "      <td>2153</td>\n",
       "      <td>D054556</td>\n",
       "      <td>[C1861172]</td>\n",
       "    </tr>\n",
       "    <tr>\n",
       "      <th>4</th>\n",
       "      <td>2900</td>\n",
       "      <td>D012559</td>\n",
       "      <td>[C0036341]</td>\n",
       "    </tr>\n",
       "    <tr>\n",
       "      <th>...</th>\n",
       "      <td>...</td>\n",
       "      <td>...</td>\n",
       "      <td>...</td>\n",
       "    </tr>\n",
       "    <tr>\n",
       "      <th>222</th>\n",
       "      <td>2944</td>\n",
       "      <td>D011471</td>\n",
       "      <td>[C0033578, C0376358]</td>\n",
       "    </tr>\n",
       "    <tr>\n",
       "      <th>223</th>\n",
       "      <td>1543</td>\n",
       "      <td>D009369</td>\n",
       "      <td>[C0086692, C0027651, C0006826]</td>\n",
       "    </tr>\n",
       "    <tr>\n",
       "      <th>224</th>\n",
       "      <td>5309</td>\n",
       "      <td>D010300</td>\n",
       "      <td>[C0030567]</td>\n",
       "    </tr>\n",
       "    <tr>\n",
       "      <th>225</th>\n",
       "      <td>3586</td>\n",
       "      <td>D002006</td>\n",
       "      <td>[C2231324, C0006309]</td>\n",
       "    </tr>\n",
       "    <tr>\n",
       "      <th>226</th>\n",
       "      <td>3569</td>\n",
       "      <td>D002006</td>\n",
       "      <td>[C2231324, C0006309]</td>\n",
       "    </tr>\n",
       "  </tbody>\n",
       "</table>\n",
       "<p>225 rows × 3 columns</p>\n",
       "</div>"
      ],
      "text/plain": [
       "     geneId diseaseId                     diseaseUMLS\n",
       "0      4313   D054160                      [C0232257]\n",
       "1      2100   D014647                      [C0042344]\n",
       "2      2099   D014647                      [C0042344]\n",
       "3      2153   D054556                      [C1861172]\n",
       "4      2900   D012559                      [C0036341]\n",
       "..      ...       ...                             ...\n",
       "222    2944   D011471            [C0033578, C0376358]\n",
       "223    1543   D009369  [C0086692, C0027651, C0006826]\n",
       "224    5309   D010300                      [C0030567]\n",
       "225    3586   D002006            [C2231324, C0006309]\n",
       "226    3569   D002006            [C2231324, C0006309]\n",
       "\n",
       "[225 rows x 3 columns]"
      ]
     },
     "execution_count": 17,
     "metadata": {},
     "output_type": "execute_result"
    }
   ],
   "source": [
    "RESULT"
   ]
  },
  {
   "cell_type": "code",
   "execution_count": 18,
   "id": "429c48b5",
   "metadata": {},
   "outputs": [],
   "source": [
    "RESULT.to_csv(f'naive_results_unexploded_{input_document}.csv',index=False)"
   ]
  },
  {
   "cell_type": "code",
   "execution_count": 19,
   "id": "bcee33bd",
   "metadata": {},
   "outputs": [],
   "source": [
    "RESULT = RESULT.explode('diseaseUMLS')"
   ]
  },
  {
   "cell_type": "code",
   "execution_count": 20,
   "id": "b737d37e",
   "metadata": {},
   "outputs": [
    {
     "data": {
      "text/html": [
       "<div>\n",
       "<style scoped>\n",
       "    .dataframe tbody tr th:only-of-type {\n",
       "        vertical-align: middle;\n",
       "    }\n",
       "\n",
       "    .dataframe tbody tr th {\n",
       "        vertical-align: top;\n",
       "    }\n",
       "\n",
       "    .dataframe thead th {\n",
       "        text-align: right;\n",
       "    }\n",
       "</style>\n",
       "<table border=\"1\" class=\"dataframe\">\n",
       "  <thead>\n",
       "    <tr style=\"text-align: right;\">\n",
       "      <th></th>\n",
       "      <th>geneId</th>\n",
       "      <th>diseaseId</th>\n",
       "      <th>diseaseUMLS</th>\n",
       "    </tr>\n",
       "  </thead>\n",
       "  <tbody>\n",
       "    <tr>\n",
       "      <th>0</th>\n",
       "      <td>4313</td>\n",
       "      <td>D054160</td>\n",
       "      <td>C0232257</td>\n",
       "    </tr>\n",
       "    <tr>\n",
       "      <th>1</th>\n",
       "      <td>2100</td>\n",
       "      <td>D014647</td>\n",
       "      <td>C0042344</td>\n",
       "    </tr>\n",
       "    <tr>\n",
       "      <th>2</th>\n",
       "      <td>2099</td>\n",
       "      <td>D014647</td>\n",
       "      <td>C0042344</td>\n",
       "    </tr>\n",
       "    <tr>\n",
       "      <th>3</th>\n",
       "      <td>2153</td>\n",
       "      <td>D054556</td>\n",
       "      <td>C1861172</td>\n",
       "    </tr>\n",
       "    <tr>\n",
       "      <th>4</th>\n",
       "      <td>2900</td>\n",
       "      <td>D012559</td>\n",
       "      <td>C0036341</td>\n",
       "    </tr>\n",
       "    <tr>\n",
       "      <th>...</th>\n",
       "      <td>...</td>\n",
       "      <td>...</td>\n",
       "      <td>...</td>\n",
       "    </tr>\n",
       "    <tr>\n",
       "      <th>224</th>\n",
       "      <td>5309</td>\n",
       "      <td>D010300</td>\n",
       "      <td>C0030567</td>\n",
       "    </tr>\n",
       "    <tr>\n",
       "      <th>225</th>\n",
       "      <td>3586</td>\n",
       "      <td>D002006</td>\n",
       "      <td>C2231324</td>\n",
       "    </tr>\n",
       "    <tr>\n",
       "      <th>225</th>\n",
       "      <td>3586</td>\n",
       "      <td>D002006</td>\n",
       "      <td>C0006309</td>\n",
       "    </tr>\n",
       "    <tr>\n",
       "      <th>226</th>\n",
       "      <td>3569</td>\n",
       "      <td>D002006</td>\n",
       "      <td>C2231324</td>\n",
       "    </tr>\n",
       "    <tr>\n",
       "      <th>226</th>\n",
       "      <td>3569</td>\n",
       "      <td>D002006</td>\n",
       "      <td>C0006309</td>\n",
       "    </tr>\n",
       "  </tbody>\n",
       "</table>\n",
       "<p>476 rows × 3 columns</p>\n",
       "</div>"
      ],
      "text/plain": [
       "     geneId diseaseId diseaseUMLS\n",
       "0      4313   D054160    C0232257\n",
       "1      2100   D014647    C0042344\n",
       "2      2099   D014647    C0042344\n",
       "3      2153   D054556    C1861172\n",
       "4      2900   D012559    C0036341\n",
       "..      ...       ...         ...\n",
       "224    5309   D010300    C0030567\n",
       "225    3586   D002006    C2231324\n",
       "225    3586   D002006    C0006309\n",
       "226    3569   D002006    C2231324\n",
       "226    3569   D002006    C0006309\n",
       "\n",
       "[476 rows x 3 columns]"
      ]
     },
     "execution_count": 20,
     "metadata": {},
     "output_type": "execute_result"
    }
   ],
   "source": [
    "RESULT"
   ]
  },
  {
   "cell_type": "code",
   "execution_count": 21,
   "id": "578507ea",
   "metadata": {},
   "outputs": [],
   "source": [
    "RESULT.to_csv(f'naive_results_{input_document}.csv',index=False)"
   ]
  },
  {
   "cell_type": "code",
   "execution_count": null,
   "id": "1bd34d77",
   "metadata": {},
   "outputs": [],
   "source": []
  },
  {
   "cell_type": "code",
   "execution_count": null,
   "id": "7ae9bef8",
   "metadata": {},
   "outputs": [],
   "source": []
  }
 ],
 "metadata": {
  "kernelspec": {
   "display_name": "Python 3 (ipykernel)",
   "language": "python",
   "name": "python3"
  },
  "language_info": {
   "codemirror_mode": {
    "name": "ipython",
    "version": 3
   },
   "file_extension": ".py",
   "mimetype": "text/x-python",
   "name": "python",
   "nbconvert_exporter": "python",
   "pygments_lexer": "ipython3",
   "version": "3.9.7"
  }
 },
 "nbformat": 4,
 "nbformat_minor": 5
}
